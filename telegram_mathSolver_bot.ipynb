{
 "cells": [
  {
   "cell_type": "code",
   "execution_count": 105,
   "metadata": {},
   "outputs": [],
   "source": [
    "#IMPORTS\n",
    "import pprint\n",
    "from selenium import webdriver\n",
    "from selenium.webdriver.chrome.options import Options\n",
    "from selenium.webdriver.chrome.service import Service\n",
    "from selenium.webdriver.support.ui import WebDriverWait\n",
    "from selenium.webdriver.common.by import By\n",
    "from selenium.webdriver.common.keys import Keys\n",
    "from random import randint\n",
    "import time"
   ]
  },
  {
   "cell_type": "code",
   "execution_count": 6,
   "metadata": {},
   "outputs": [],
   "source": [
    "#INIT\n",
    "#set variables and initialize driver\n",
    "executable_path = '/usr/bin/chromedriver'\n",
    "user_data_directory = '/home/cyprian/chromeprofiles'\n",
    "profile_directory = 'Default'"
   ]
  },
  {
   "cell_type": "code",
   "execution_count": 66,
   "metadata": {},
   "outputs": [],
   "source": [
    "def initialize_chromedriver_with_profile(executable_path, user_data_directory, profile_directory):\n",
    "    chromeOptions = Options()\n",
    "    chromeOptions.add_argument('--disable-extensions')\n",
    "    chromeOptions.add_argument(f\"--user-data-dir={user_data_directory}\")\n",
    "    chromeOptions.add_argument(f\"--profile-directory={profile_directory}\")\n",
    "    \n",
    "    # Battling The Automation Detection\n",
    "    userAgent = 'Mozilla/5.0 (X11; Linux x86_64) AppleWebKit/537.36 (KHTML, like Gecko) Chrome/102.0.5005.12 Safari/537.36'\n",
    "    chromeOptions.add_argument(f'user-agent={userAgent}')\n",
    "    chromeOptions.add_experimental_option(\"useAutomationExtension\", False)\n",
    "    chromeOptions.add_experimental_option(\"excludeSwitches\",[\"enable-automation\"])\n",
    "    chromeOptions.add_argument('--disable-blink-features=AutomationControlled')\n",
    "    service = Service(executable_path=executable_path)\n",
    "    driver = webdriver.Chrome(service=service,options=chromeOptions)\n",
    "    #Remove navigator.webdriver Flag using JavaScript\n",
    "    driver.execute_script(\"Object.defineProperty(navigator, 'webdriver', {get: () => undefined})\")\n",
    "    \n",
    "    return driver"
   ]
  },
  {
   "cell_type": "code",
   "execution_count": null,
   "metadata": {},
   "outputs": [],
   "source": [
    "#MAIN LOOP\n",
    "\n",
    "#intialize driver\n",
    "driver = initialize_chromedriver_with_profile(executable_path, user_data_directory, profile_directory)\n",
    "#open page\n",
    "driver.get(\"https://tbot.xyz/math/#eyJ1Ijo5NDIwMzY1OTcsIm4iOiJDeXByaWFuICIsImciOiJNYXRoQmF0dGxlIiwiY2kiOiI0MzE4NzYzNTQ1NjQwNjY2MTgwIiwiaSI6IkJBQUFBREFBQUFDLVlfS2tXSV9BVWU1cTJ5OCJ9ZTZlM2VhNTgyNDZmNGZhY2Q4ZjAxMTMzNjcyOWY0M2Q=&tgShareScoreUrl=tg%3A%2F%2Fshare_game_score%3Fhash%3D0ifgX7kWDPEcguKv1c5fxTcwf2mbtK8W_-VoQbMV5vcCZ-Xcz338V1_NoQkd95Pq\")\n",
    "while True:\n",
    "    try:\n",
    "        play()\n",
    "    except ValueError:\n",
    "        play()"
   ]
  },
  {
   "cell_type": "code",
   "execution_count": 112,
   "metadata": {},
   "outputs": [],
   "source": [
    "def play():\n",
    "    #click play button\n",
    "    play_button_id = \"button_correct\"\n",
    "    play_button = WebDriverWait(driver, timeout=20).until(lambda d: d.find_element(by = By.ID, value = play_button_id))\n",
    "    play_button.click()\n",
    "    \n",
    "    #retrieve variables\n",
    "        #left hand expression\n",
    "    left_handExp_id = \"task_x\"\n",
    "    left_handExp = WebDriverWait(driver, timeout=20).until(lambda d: d.find_element(by = By.ID, value = left_handExp_id))\n",
    "    left_handExp = left_handExp.text\n",
    "            #operand\n",
    "    operand_id = \"task_op\"\n",
    "    operand = WebDriverWait(driver, timeout=20).until(lambda d: d.find_element(by = By.ID, value = operand_id)).text\n",
    "\n",
    "        \n",
    "        #right hand expression\n",
    "    right_handExp_id = \"task_y\"\n",
    "    right_handExp = WebDriverWait(driver, timeout=20).until(lambda d: d.find_element(by = By.ID, value = right_handExp_id))\n",
    "    right_handExp = right_handExp.text\n",
    "        #result given\n",
    "    result_given_id = \"task_res\"\n",
    "    result_given = WebDriverWait(driver, timeout=20).until(lambda d: d.find_element(by = By.ID, value = result_given_id)).text\n",
    "    \n",
    "    \n",
    "    \n",
    "    #evaluate expression\n",
    "    full_expression = left_handExp + \" \" + operand + \" \" + right_handExp\n",
    "#     print(full_expression)\n",
    "    true_result = get_result(left_handExp, operand, right_handExp)\n",
    "#     print(true_result)\n",
    "    \n",
    "    #compare results and return boolean\n",
    "    if (int(result_given) == true_result):\n",
    "        correct = True\n",
    "    else:\n",
    "        correct = False\n",
    "        \n",
    "    #click correct button\n",
    "    correct_button_id = \"button_correct\"\n",
    "    correct_button = WebDriverWait(driver, timeout=20).until(lambda d: d.find_element(by = By.ID, value = correct_button_id))\n",
    "\n",
    "    wrong_button_id = \"button_wrong\"\n",
    "    wrong_button = WebDriverWait(driver, timeout=20).until(lambda d: d.find_element(by = By.ID, value = wrong_button_id))\n",
    "    if correct:\n",
    "        correct_button.click()\n",
    "    else:\n",
    "        wrong_button.click()"
   ]
  },
  {
   "cell_type": "code",
   "execution_count": 113,
   "metadata": {},
   "outputs": [],
   "source": [
    "def get_result(leftSide, operand, rightSide):\n",
    "    try:\n",
    "        leftSide = int(leftSide)\n",
    "        rightSide = int(rightSide)\n",
    "        if operand == \"×\":\n",
    "            true_result = leftSide * rightSide\n",
    "        elif operand == '–':\n",
    "            true_result = leftSide - rightSide\n",
    "        elif operand == '/':\n",
    "            true_result = leftSide / rightSide\n",
    "        elif operand == '+':\n",
    "            true_result = leftSide + rightSide\n",
    "        else:\n",
    "            true_result = 'Ostrich algorithm'\n",
    "\n",
    "        return true_result\n",
    "    except ValueError:\n",
    "        return 0"
   ]
  },
  {
   "cell_type": "code",
   "execution_count": null,
   "metadata": {},
   "outputs": [],
   "source": []
  }
 ],
 "metadata": {
  "kernelspec": {
   "display_name": "Python 3",
   "language": "python",
   "name": "python3"
  },
  "language_info": {
   "codemirror_mode": {
    "name": "ipython",
    "version": 3
   },
   "file_extension": ".py",
   "mimetype": "text/x-python",
   "name": "python",
   "nbconvert_exporter": "python",
   "pygments_lexer": "ipython3",
   "version": "3.8.10"
  }
 },
 "nbformat": 4,
 "nbformat_minor": 4
}
